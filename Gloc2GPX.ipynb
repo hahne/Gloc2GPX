{
 "cells": [
  {
   "cell_type": "code",
   "execution_count": null,
   "id": "8333b6ab",
   "metadata": {},
   "outputs": [],
   "source": [
    "import json\n",
    "import xml.etree.ElementTree as ET"
   ]
  },
  {
   "cell_type": "code",
   "execution_count": null,
   "id": "3e5310b2",
   "metadata": {},
   "outputs": [],
   "source": [
    "records_fp = R\"C:\\Users\\Johannes\\Downloads\\takeout-20220819T193420Z-001\\Takeout\\Standortverlauf\\Records.json\""
   ]
  },
  {
   "cell_type": "code",
   "execution_count": null,
   "id": "470c43a1",
   "metadata": {},
   "outputs": [],
   "source": [
    "records = json.load(open(records_fp, 'r'))"
   ]
  },
  {
   "cell_type": "code",
   "execution_count": null,
   "id": "ffecfcc5",
   "metadata": {},
   "outputs": [],
   "source": [
    "activity_types = set()\n",
    "for record in records[\"locations\"]:\n",
    "    if \"activity\" in record:\n",
    "        for a in record[\"activity\"]:\n",
    "            #activity_types.add(a)\n",
    "            for t in a[\"activity\"]:\n",
    "                activity_types.add(t['type'])"
   ]
  },
  {
   "cell_type": "code",
   "execution_count": null,
   "id": "dff5da7d",
   "metadata": {},
   "outputs": [],
   "source": [
    "print(activity_types)"
   ]
  },
  {
   "cell_type": "code",
   "execution_count": null,
   "id": "4fd40e26",
   "metadata": {},
   "outputs": [],
   "source": [
    "walking_ac = {'WALKING', 'ON_FOOT', 'ON_BICYCLE', 'RUNNING'}\n",
    "is_moving = False\n",
    "was_moving = False\n",
    "tracks = []\n",
    "new_track = []\n",
    "for record in records[\"locations\"]:\n",
    "    if \"activity\" in record:\n",
    "        is_moving = False\n",
    "        for a in record[\"activity\"]:\n",
    "            #activity_types.add(a)\n",
    "            for t in a[\"activity\"]:\n",
    "                if t['type'] in walking_ac:\n",
    "                    is_moving = True\n",
    "    if was_moving and not is_moving:\n",
    "        tracks.append(new_track)\n",
    "        new_track = []\n",
    "    if is_moving:\n",
    "        new_track.append(record)\n",
    "    was_moving = is_moving\n",
    "        "
   ]
  },
  {
   "cell_type": "code",
   "execution_count": null,
   "id": "18abe844",
   "metadata": {},
   "outputs": [],
   "source": [
    "track = tracks[0]\n",
    "for track in tracks:\n",
    "    gpx = ET.Element('gpx')\n",
    "    gpx.set('xmlns', 'http://www.topografix.com/GPX/1/1')\n",
    "    trk = ET.SubElement(gpx, 'trk')\n",
    "    name = ET.SubElement(trk, 'name')\n",
    "    name.text = \"Google Standortverlauf\"\n",
    "    trkseg = ET.SubElement(trk, 'trkseg')\n",
    "    ts_string = track[0][\"timestamp\"]\n",
    "    ts_string = ts_string.replace(\":\", \"-\")\n",
    "\n",
    "    for seg in track:\n",
    "        lat = seg['latitudeE7'] / 1e7\n",
    "        lon = seg['longitudeE7'] / 1e7\n",
    "        trkpt = ET.SubElement(trkseg, 'trkpt')\n",
    "        trkpt.set(\"lat\", str(lat))\n",
    "        trkpt.set(\"lon\", str(lon))\n",
    "        time = ET.SubElement(trkpt, 'time')\n",
    "        time.text = seg[\"timestamp\"]\n",
    "    gpx_xml = ET.tostring(gpx)\n",
    "    with open(\"data/gpx_\" + ts_string + \".xml\", \"wb\") as f:\n",
    "        f.write(gpx_xml)"
   ]
  }
 ],
 "metadata": {
  "kernelspec": {
   "display_name": "Python 3 (ipykernel)",
   "language": "python",
   "name": "python3"
  },
  "language_info": {
   "codemirror_mode": {
    "name": "ipython",
    "version": 3
   },
   "file_extension": ".py",
   "mimetype": "text/x-python",
   "name": "python",
   "nbconvert_exporter": "python",
   "pygments_lexer": "ipython3",
   "version": "3.10.4"
  }
 },
 "nbformat": 4,
 "nbformat_minor": 5
}
